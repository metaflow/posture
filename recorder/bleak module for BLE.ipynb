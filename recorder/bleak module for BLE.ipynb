{
 "cells": [
  {
   "cell_type": "code",
   "execution_count": 10,
   "metadata": {},
   "outputs": [],
   "source": [
    "import asyncio\n",
    "import platform\n",
    "import logging\n",
    "%autoawait asyncio\n",
    "import bleak\n",
    "import importlib\n",
    "loop = asyncio.get_event_loop()"
   ]
  },
  {
   "cell_type": "code",
   "execution_count": 11,
   "metadata": {},
   "outputs": [],
   "source": [
    "async def discover():\n",
    "    devices = await bleak.discover()\n",
    "    for d in devices:\n",
    "        print(d)"
   ]
  },
  {
   "cell_type": "code",
   "execution_count": 12,
   "metadata": {},
   "outputs": [
    {
     "data": {
      "text/plain": [
       "<Task pending coro=<discover() running at <ipython-input-11-71c846b72948>:1> created at <ipython-input-12-1a4ce9146d9a>:1>"
      ]
     },
     "execution_count": 12,
     "metadata": {},
     "output_type": "execute_result"
    }
   ],
   "source": [
    "loop.create_task(discover())"
   ]
  },
  {
   "cell_type": "code",
   "execution_count": 13,
   "metadata": {},
   "outputs": [],
   "source": [
    "address = \"7137C3CC-8B3F-4621-A698-118852E4705F\""
   ]
  },
  {
   "cell_type": "code",
   "execution_count": 14,
   "metadata": {},
   "outputs": [
    {
     "data": {
      "text/plain": [
       "<Task pending coro=<print_services() running at <ipython-input-14-ac79d5be4653>:1> created at <ipython-input-14-ac79d5be4653>:6>"
      ]
     },
     "execution_count": 14,
     "metadata": {},
     "output_type": "execute_result"
    }
   ],
   "source": [
    "async def print_services(mac_addr: str, loop: asyncio.AbstractEventLoop):\n",
    "    async with bleak.BleakClient(mac_addr, loop=loop) as client:\n",
    "        svcs = await client.get_services()\n",
    "        print(\"Services:\", svcs)\n",
    "\n",
    "loop.create_task(print_services(address, loop))"
   ]
  },
  {
   "cell_type": "code",
   "execution_count": 15,
   "metadata": {},
   "outputs": [
    {
     "data": {
      "text/plain": [
       "<Task pending coro=<run() running at <ipython-input-15-076322b0edbe>:1> created at <ipython-input-15-076322b0edbe>:41>"
      ]
     },
     "execution_count": 15,
     "metadata": {},
     "output_type": "execute_result"
    }
   ],
   "source": [
    "async def run(address, loop, debug=False):\n",
    "    log = logging.getLogger(__name__)\n",
    "    if debug:\n",
    "        import sys\n",
    "\n",
    "        loop.set_debug(True)\n",
    "        log.setLevel(logging.DEBUG)\n",
    "        h = logging.StreamHandler(sys.stdout)\n",
    "        h.setLevel(logging.DEBUG)\n",
    "        log.addHandler(h)\n",
    "\n",
    "    async with bleak.BleakClient(address, loop=loop) as client:\n",
    "        x = await client.is_connected()\n",
    "        log.info(\"Connected: {0}\".format(x))\n",
    "\n",
    "        for service in client.services:\n",
    "            log.info(\"[Service] {0}: {1}\".format(service.uuid, service.description))\n",
    "            for char in service.characteristics:\n",
    "                if \"read\" in char.properties:\n",
    "                    try:\n",
    "                        value = bytes(await client.read_gatt_char(char.uuid))\n",
    "                    except Exception as e:\n",
    "                        value = str(e).encode()\n",
    "                else:\n",
    "                    value = None\n",
    "                log.info(\n",
    "                    \"\\t[Characteristic] {0}: ({1}) | Name: {2}, Value: {3} \".format(\n",
    "                        char.uuid, \",\".join(char.properties), char.description, value\n",
    "                    )\n",
    "                )\n",
    "                for descriptor in char.descriptors:\n",
    "                    value = await client.read_gatt_descriptor(descriptor.handle)\n",
    "                    log.info(\n",
    "                        \"\\t\\t[Descriptor] {0}: (Handle: {1}) | Value: {2} \".format(\n",
    "                            descriptor.uuid, descriptor.handle, bytes(value)\n",
    "                        )\n",
    "                    )\n",
    "\n",
    "importlib.reload(logging)\n",
    "loop = asyncio.get_event_loop()\n",
    "loop.create_task(run(address, loop, True))"
   ]
  },
  {
   "cell_type": "code",
   "execution_count": 16,
   "metadata": {},
   "outputs": [],
   "source": [
    "characteristic = \"6A806050-B5A3-F393-E0A9-E50E24DCCA9E\""
   ]
  },
  {
   "cell_type": "code",
   "execution_count": 17,
   "metadata": {},
   "outputs": [
    {
     "data": {
      "text/plain": [
       "<Task pending coro=<run() running at <ipython-input-17-e8866e4c7c11>:6> created at <ipython-input-17-e8866e4c7c11>:26>"
      ]
     },
     "execution_count": 17,
     "metadata": {},
     "output_type": "execute_result"
    },
    {
     "name": "stdout",
     "output_type": "stream",
     "text": [
      "2B07654A-26AB-4F7B-941C-25D9E1A2D8C4: B4E5533C40B830AEE9\n",
      "AD84BD0C-155F-4798-9BBC-84CDA9D767BF: Microsoft (010920020e83618007f30d9c19ad939ecab8fb5b6d485ce343765d)\n",
      "8E567035-2533-4A23-B7D4-F88508065355: [TV] Samsung 8 Series (65)\n",
      "1931C101-AA40-4A0F-A3F2-F3A6F1946CB8: Microsoft (010920022796b587549bf212a29fe82224f4d8fa86a2db83e5c4e3)\n",
      "F99C3A7D-2FD5-496E-B254-53F3314694ED: Microsoft (0109200270ed31b4ed19558a09f3fb9b323a612b89df9382022d29)\n",
      "57924A3C-910A-4EAA-BFD6-3A087D3E1D57: Unknown\n",
      "92A7F78A-2D6C-47C2-8808-D18901C40016: MI1S\n",
      "BA4F9130-7856-4A42-AEFE-8BA9DB16136C: Samsung Electronics Co. Ltd. (4204010141ccb11a298110ceb11aac810f06000000000000)\n",
      "7137C3CC-8B3F-4621-A698-118852E4705F: SENSOR_PRO\n",
      "6F547DD9-AAF8-4F47-BFFE-5E1F333A8221: Microsoft (010920022796b587549bf212a29fe82224f4d8fa86a2db83e5c4e3)\n",
      "67E85354-D7C6-40A3-B193-ABB2682CD5F3: Microsoft (01092002608829940f337adab443f09ce82a2d94bf560dd0a870f0)\n",
      "287766F5-E065-4964-9CD3-2FAFDC10E895: Microsoft (01092002f013e0d86c43b46e97075e61411599af96d16b52867768)\n",
      "10C67592-FF8B-4161-82DC-A40C5611C63B: Apple, Inc. (10051318894ebf)\n",
      "5BF4ABF7-E27B-4355-ACC5-E1859E887305: Microsoft (010920027cdb8199e48f0fd140aa5121a4ce081abd1d06b46a32d3)\n",
      "912485C4-091A-4D3B-92FC-E25417038AF6: Microsoft (01092002335cd3026a9abbf00534a390c6c442a0fe51acfdefa463)\n",
      "Connected: True\n",
      "Connected: True\n",
      "[Service] 6A800001-B5A3-F393-E0A9-E50E24DCCA9E: Unknown\n",
      "[Service] 6A800001-B5A3-F393-E0A9-E50E24DCCA9E: Unknown\n",
      "\t[Characteristic] 6A80B280-B5A3-F393-E0A9-E50E24DCCA9E: (notify) | Name: , Value: None \n",
      "\t[Characteristic] 6A80B280-B5A3-F393-E0A9-E50E24DCCA9E: (notify) | Name: , Value: None \n",
      "Services: (\n",
      "    \"<CBService: 0x7fd40ae02dd0, isPrimary = NO, UUID = 6A800001-B5A3-F393-E0A9-E50E24DCCA9E>\"\n",
      ")\n"
     ]
    }
   ],
   "source": [
    "def notification_handler(sender, data):\n",
    "    \"\"\"Simple notification handler which prints the data received.\"\"\"\n",
    "    print(\"{0}: {1}\".format(sender, data))\n",
    "\n",
    "\n",
    "async def run(address, loop, debug=False):\n",
    "    log = logging.getLogger(__name__)\n",
    "    if debug:\n",
    "        import sys\n",
    "\n",
    "        loop.set_debug(True)\n",
    "        log.setLevel(logging.DEBUG)\n",
    "        h = logging.StreamHandler(sys.stdout)\n",
    "        h.setLevel(logging.DEBUG)\n",
    "        log.addHandler(h)\n",
    "\n",
    "    async with bleak.BleakClient(address, loop=loop) as client:\n",
    "        x = await client.is_connected()\n",
    "        logger.info(\"Connected: {0}\".format(x))\n",
    "#         await client.start_notify(characteristic, notification_handler)\n",
    "#         await asyncio.sleep(5.0, loop=loop)\n",
    "#         await client.stop_notify(characteristic)\n",
    "\n",
    "importlib.reload(logging)\n",
    "loop = asyncio.get_event_loop()\n",
    "loop.create_task(run(address, loop, True))"
   ]
  }
 ],
 "metadata": {
  "kernelspec": {
   "display_name": "Python 3",
   "language": "python",
   "name": "python3"
  },
  "language_info": {
   "codemirror_mode": {
    "name": "ipython",
    "version": 3
   },
   "file_extension": ".py",
   "mimetype": "text/x-python",
   "name": "python",
   "nbconvert_exporter": "python",
   "pygments_lexer": "ipython3",
   "version": "3.7.1"
  }
 },
 "nbformat": 4,
 "nbformat_minor": 2
}
