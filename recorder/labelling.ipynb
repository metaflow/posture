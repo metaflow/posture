{
 "cells": [
  {
   "cell_type": "code",
   "execution_count": 1,
   "metadata": {},
   "outputs": [],
   "source": [
    "from IPython.display import display, Image\n",
    "from pigeon import annotate"
   ]
  },
  {
   "cell_type": "code",
   "execution_count": 4,
   "metadata": {},
   "outputs": [],
   "source": [
    "from os import listdir\n",
    "from os.path import isfile, join\n",
    "path = './'\n",
    "all_images = [f for f in listdir(path) if isfile(join(path, f)) and f.endswith('.jpg')]"
   ]
  },
  {
   "cell_type": "code",
   "execution_count": 7,
   "metadata": {},
   "outputs": [],
   "source": [
    "latest_images = [x for x in all_images if int(x[:-4]) > 1566720892]"
   ]
  },
  {
   "cell_type": "code",
   "execution_count": 8,
   "metadata": {},
   "outputs": [
    {
     "data": {
      "text/plain": [
       "1899"
      ]
     },
     "execution_count": 8,
     "metadata": {},
     "output_type": "execute_result"
    }
   ],
   "source": [
    "len(latest_images)"
   ]
  },
  {
   "cell_type": "code",
   "execution_count": 11,
   "metadata": {
    "scrolled": false
   },
   "outputs": [
    {
     "data": {
      "application/vnd.jupyter.widget-view+json": {
       "model_id": "7b7574ee52a44b3681a5ab2614f42e28",
       "version_major": 2,
       "version_minor": 0
      },
      "text/plain": [
       "HTML(value='0 examples annotated, 1900 examples left')"
      ]
     },
     "metadata": {},
     "output_type": "display_data"
    },
    {
     "data": {
      "application/vnd.jupyter.widget-view+json": {
       "model_id": "d75d1e427d9e470188aa7bcdde5bd811",
       "version_major": 2,
       "version_minor": 0
      },
      "text/plain": [
       "HBox(children=(Button(description='-2', style=ButtonStyle()), Button(description='2', style=ButtonStyle()), Bu…"
      ]
     },
     "metadata": {},
     "output_type": "display_data"
    },
    {
     "data": {
      "application/vnd.jupyter.widget-view+json": {
       "model_id": "e5a36a151ff34be5b74cb3a4f26aaa0f",
       "version_major": 2,
       "version_minor": 0
      },
      "text/plain": [
       "Output()"
      ]
     },
     "metadata": {},
     "output_type": "display_data"
    }
   ],
   "source": [
    "annotations = annotate(\n",
    "  latest_images,\n",
    "  options=['-2', '2', 'n/a'],\n",
    "  display_fn=lambda filename: display(Image(filename))\n",
    ")"
   ]
  },
  {
   "cell_type": "code",
   "execution_count": 12,
   "metadata": {},
   "outputs": [
    {
     "data": {
      "text/plain": [
       "[('1567238350.jpg', 'n/a'),\n",
       " ('1567238344.jpg', 'n/a'),\n",
       " ('1567269692.jpg', '-2'),\n",
       " ('1567258329.jpg', '-2'),\n",
       " ('1567018548.jpg', 'n/a'),\n",
       " ('1567269309.jpg', '-2'),\n",
       " ('1567197735.jpg', '2'),\n",
       " ('1567257230.jpg', '-2'),\n",
       " ('1567256927.jpg', '2'),\n",
       " ('1567199693.jpg', '-2'),\n",
       " ('1567257436.jpg', '-2'),\n",
       " ('1567258705.jpg', '-2'),\n",
       " ('1567259433.jpg', '-2'),\n",
       " ('1567257620.jpg', '-2'),\n",
       " ('1567259157.jpg', '-2'),\n",
       " ('1567196953.jpg', '-2'),\n",
       " ('1567257609.jpg', '-2'),\n",
       " ('1567195080.jpg', 'n/a'),\n",
       " ('1567238782.jpg', 'n/a'),\n",
       " ('1567193354.jpg', 'n/a'),\n",
       " ('1567197898.jpg', '2'),\n",
       " ('1567238437.jpg', 'n/a'),\n",
       " ('1567269108.jpg', '-2'),\n",
       " ('1567238421.jpg', 'n/a'),\n",
       " ('1567195121.jpg', '2'),\n",
       " ('1567018588.jpg', 'n/a'),\n",
       " ('1567197939.jpg', '2'),\n",
       " ('1567259222.jpg', 'n/a'),\n",
       " ('1567193424.jpg', '-2'),\n",
       " ('1567197695.jpg', '2'),\n",
       " ('1567259141.jpg', 'n/a'),\n",
       " ('1567238540.jpg', '2'),\n",
       " ('1567267736.jpg', '-2'),\n",
       " ('1567193586.jpg', '-2'),\n",
       " ('1567259551.jpg', '-2'),\n",
       " ('1567238391.jpg', 'n/a'),\n",
       " ('1567193960.jpg', 'n/a'),\n",
       " ('1567238385.jpg', 'n/a'),\n",
       " ('1567193555.jpg', '-2'),\n",
       " ('1567198399.jpg', '2'),\n",
       " ('1567197653.jpg', '2'),\n",
       " ('1567238550.jpg', '2'),\n",
       " ('1567257168.jpg', '2'),\n",
       " ('1567269093.jpg', '-2'),\n",
       " ('1567018598.jpg', 'n/a'),\n",
       " ('1567261008.jpg', '2'),\n",
       " ('1567238380.jpg', 'n/a'),\n",
       " ('1567257009.jpg', '2'),\n",
       " ('1567238355.jpg', 'n/a'),\n",
       " ('1567238427.jpg', 'n/a'),\n",
       " ('1567238396.jpg', 'n/a'),\n",
       " ('1567197888.jpg', '2'),\n",
       " ('1567238745.jpg', '-2'),\n",
       " ('1567195090.jpg', 'n/a'),\n",
       " ('1567238792.jpg', 'n/a'),\n",
       " ('1567259146.jpg', 'n/a'),\n",
       " ('1567198006.jpg', '2'),\n",
       " ('1567238787.jpg', 'n/a'),\n",
       " ('1567258715.jpg', '-2'),\n",
       " ('1567258926.jpg', '-2'),\n",
       " ('1567256658.jpg', 'n/a'),\n",
       " ('1567256880.jpg', '-2'),\n",
       " ('1567258113.jpg', '-2'),\n",
       " ('1567257220.jpg', '-2'),\n",
       " ('1567258107.jpg', '-2'),\n",
       " ('1567258885.jpg', '-2'),\n",
       " ('1567018558.jpg', 'n/a'),\n",
       " ('1567238432.jpg', 'n/a'),\n",
       " ('1567258438.jpg', 'n/a'),\n",
       " ('1567256617.jpg', '2'),\n",
       " ('1567238535.jpg', '2'),\n",
       " ('1567238483.jpg', 'n/a'),\n",
       " ('1567238468.jpg', 'n/a'),\n",
       " ('1567238324.jpg', 'n/a'),\n",
       " ('1567238442.jpg', 'n/a'),\n",
       " ('1567197755.jpg', '2'),\n",
       " ('1567261090.jpg', 'n/a'),\n",
       " ('1567267556.jpg', 'n/a'),\n",
       " ('1567238278.jpg', 'n/a'),\n",
       " ('1567238293.jpg', 'n/a'),\n",
       " ('1567259889.jpg', '-2'),\n",
       " ('1567193687.jpg', 'n/a'),\n",
       " ('1567257127.jpg', '-2'),\n",
       " ('1567197807.jpg', '2'),\n",
       " ('1567197797.jpg', '2'),\n",
       " ('1567193283.jpg', 'n/a'),\n",
       " ('1567261085.jpg', 'n/a'),\n",
       " ('1567199792.jpg', '2'),\n",
       " ('1567238494.jpg', 'n/a'),\n",
       " ('1567258412.jpg', '-2'),\n",
       " ('1567260833.jpg', '-2'),\n",
       " ('1567238319.jpg', 'n/a'),\n",
       " ('1567238457.jpg', 'n/a'),\n",
       " ('1567238309.jpg', 'n/a'),\n",
       " ('1567238447.jpg', 'n/a'),\n",
       " ('1567259720.jpg', '2'),\n",
       " ('1567193293.jpg', 'n/a'),\n",
       " ('1567261095.jpg', 'n/a'),\n",
       " ('1567199782.jpg', '-2'),\n",
       " ('1567193324.jpg', 'n/a'),\n",
       " ('1567197817.jpg', '2'),\n",
       " ('1567198701.jpg', '2'),\n",
       " ('1567259126.jpg', '-2'),\n",
       " ('1567193697.jpg', 'n/a'),\n",
       " ('1567238283.jpg', 'n/a'),\n",
       " ('1567256566.jpg', 'n/a'),\n",
       " ('1567267546.jpg', 'n/a'),\n",
       " ('1567261080.jpg', 'n/a'),\n",
       " ('1567199973.jpg', '2'),\n",
       " ('1567238678.jpg', '-2'),\n",
       " ('1567238334.jpg', 'n/a'),\n",
       " ('1567238452.jpg', 'n/a'),\n",
       " ('1567198660.jpg', '2'),\n",
       " ('1567257917.jpg', '2'),\n",
       " ('1567238478.jpg', 'n/a')]"
      ]
     },
     "execution_count": 12,
     "metadata": {},
     "output_type": "execute_result"
    }
   ],
   "source": [
    "annotations"
   ]
  },
  {
   "cell_type": "markdown",
   "metadata": {},
   "source": [
    "save annotations"
   ]
  },
  {
   "cell_type": "code",
   "execution_count": 14,
   "metadata": {},
   "outputs": [
    {
     "data": {
      "text/plain": [
       "(27, 34)"
      ]
     },
     "execution_count": 14,
     "metadata": {},
     "output_type": "execute_result"
    }
   ],
   "source": [
    "len([x for x in annotations if x[1] == '2']), len([x for x in annotations if x[1] == '-2'])"
   ]
  },
  {
   "cell_type": "code",
   "execution_count": 15,
   "metadata": {},
   "outputs": [],
   "source": [
    "import csv\n",
    "with open(f'scores.csv', mode='a') as f:\n",
    "    w = csv.writer(f, delimiter=',', quotechar='\"', quoting=csv.QUOTE_MINIMAL)\n",
    "    for a in annotations:\n",
    "        w.writerow(a)"
   ]
  }
 ],
 "metadata": {
  "kernelspec": {
   "display_name": "Python 3",
   "language": "python",
   "name": "python3"
  },
  "language_info": {
   "codemirror_mode": {
    "name": "ipython",
    "version": 3
   },
   "file_extension": ".py",
   "mimetype": "text/x-python",
   "name": "python",
   "nbconvert_exporter": "python",
   "pygments_lexer": "ipython3",
   "version": "3.7.1"
  }
 },
 "nbformat": 4,
 "nbformat_minor": 2
}
