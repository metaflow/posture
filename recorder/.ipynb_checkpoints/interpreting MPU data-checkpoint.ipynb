{
 "cells": [
  {
   "cell_type": "code",
   "execution_count": 22,
   "metadata": {},
   "outputs": [],
   "source": [
    "s = \"004efe7e3aacff87ffd8ffdf\"\n",
    "s = \"c318f7c6fcd4ff7dffd5fff6\"\n",
    "s = \"0b623f00f952ff79ffe3ffc3\""
   ]
  },
  {
   "cell_type": "code",
   "execution_count": 30,
   "metadata": {},
   "outputs": [],
   "source": [
    "import struct"
   ]
  },
  {
   "cell_type": "code",
   "execution_count": 43,
   "metadata": {},
   "outputs": [
    {
     "data": {
      "text/plain": [
       "b'\\x00N'"
      ]
     },
     "execution_count": 43,
     "metadata": {},
     "output_type": "execute_result"
    }
   ],
   "source": [
    "b = bytes.fromhex(\"004efe7e3aacff87ffd8ffdf\")\n",
    "b[0:2]"
   ]
  },
  {
   "cell_type": "code",
   "execution_count": 46,
   "metadata": {},
   "outputs": [
    {
     "data": {
      "text/plain": [
       "(78, -386, 15020)"
      ]
     },
     "execution_count": 46,
     "metadata": {},
     "output_type": "execute_result"
    }
   ],
   "source": [
    "struct.unpack('>hhh', b[0:6])"
   ]
  },
  {
   "cell_type": "code",
   "execution_count": 56,
   "metadata": {},
   "outputs": [],
   "source": [
    "def interpret(s):\n",
    "    b = bytes.fromhex(s)\n",
    "    unpack = struct.unpack('>hhh', b[0:6])\n",
    "    z = {}\n",
    "    z['ax'] = unpack[0]\n",
    "    z['ay'] = unpack[1]\n",
    "    z['az'] = unpack[2]\n",
    "    return z"
   ]
  },
  {
   "cell_type": "code",
   "execution_count": 57,
   "metadata": {},
   "outputs": [
    {
     "name": "stdout",
     "output_type": "stream",
     "text": [
      "{'ax': 78, 'ay': -386, 'az': 15020}\n",
      "{'ax': -15592, 'ay': -2106, 'az': -812}\n",
      "{'ax': 2914, 'ay': 16128, 'az': -1710}\n",
      "{'ax': 1144, 'ay': -1020, 'az': -18772}\n",
      "{'ax': 226, 'ay': -422, 'az': 14978}\n",
      "{'ax': 16366, 'ay': -294, 'az': -6066}\n"
     ]
    }
   ],
   "source": [
    "print(interpret(\"004efe7e3aacff87ffd8ffdf\"))\n",
    "print(interpret(\"c318f7c6fcd4ff7dffd5fff6\"))\n",
    "print(interpret(\"0b623f00f952ff79ffe3ffc3\"))\n",
    "print(interpret(\"0478fc04b6acff82ffd6ffdf\"))\n",
    "print(interpret(\"00e2fe5a3a82ff82ffd6ffdd\"))\n",
    "print(interpret(\"3feefedae84eff75ffdeffa3\"))"
   ]
  }
 ],
 "metadata": {
  "kernelspec": {
   "display_name": "Python 3",
   "language": "python",
   "name": "python3"
  },
  "language_info": {
   "codemirror_mode": {
    "name": "ipython",
    "version": 3
   },
   "file_extension": ".py",
   "mimetype": "text/x-python",
   "name": "python",
   "nbconvert_exporter": "python",
   "pygments_lexer": "ipython3",
   "version": "3.7.1"
  }
 },
 "nbformat": 4,
 "nbformat_minor": 2
}
