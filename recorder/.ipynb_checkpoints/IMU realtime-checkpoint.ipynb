{
 "cells": [
  {
   "cell_type": "code",
   "execution_count": 1,
   "metadata": {},
   "outputs": [],
   "source": [
    "import csv\n",
    "from os import listdir\n",
    "from os.path import isfile, join\n",
    "from IPython.display import display, Image\n",
    "import math\n",
    "import matplotlib.pyplot as plt\n",
    "import numpy as np\n",
    "import sklearn.svm as svm\n",
    "from sklearn.multiclass import OneVsRestClassifier, OneVsOneClassifier\n",
    "from datetime import datetime\n",
    "\n",
    "from IPython.display import HTML, display\n",
    "import tabulate"
   ]
  },
  {
   "cell_type": "code",
   "execution_count": 2,
   "metadata": {},
   "outputs": [],
   "source": [
    "import serial\n",
    "import time\n",
    "import csv\n",
    "\n",
    "sensors = {}\n",
    "last_time = time.time()\n",
    "serial_port = '/dev/cu.usbserial-1440'"
   ]
  },
  {
   "cell_type": "code",
   "execution_count": 5,
   "metadata": {},
   "outputs": [],
   "source": [
    "def run():\n",
    "    fig = plt.figure(figsize=(10,10))\n",
    "    ax = fig.add_subplot(111, projection='3d')\n",
    "    ax.set_xlabel('X')\n",
    "    ax.set_ylabel('Y')\n",
    "    ax.set_zlabel('Z')\n",
    "    ser = serial.Serial(serial_port, 38400)\n",
    "    for i in range(5):\n",
    "        ln = ser.readline().decode('utf-8')\n",
    "        parts = ln.strip().split('\\t')\n",
    "        if len(parts) < ?:\n",
    "            continue\n",
    "        x = float(parts[2])\n",
    "        y = float(parts[3])\n",
    "        z = float(parts[4])\n",
    "        ax.quiver(0,0,0, x, y, z, color=f'C{i}')\n",
    "#         ax.scatter(c[0], c[1], c[2],color=f'C{i}', marker=f'${i}$', s=100)\n",
    "        plt.show()\n",
    "        print(parts)"
   ]
  },
  {
   "cell_type": "code",
   "execution_count": 6,
   "metadata": {
    "scrolled": true
   },
   "outputs": [
    {
     "name": "stdout",
     "output_type": "stream",
     "text": [
      "['Successfully initialized LSM9DS1']\n",
      "['1', 'LSM9DS1', '0.86', '0.29', '-0.33', '-0.27', '1.94', '5.54', '-8.10', '-0.37', '0.58', '-0.25', '-0.06', '0.01', '0.01']\n",
      "['1', 'LSM9DS1', '0.62', '0.43', '-0.53', '-0.38', '1.93', '5.53', '-8.15', '-0.38', '0.58', '-0.27', '-0.06', '0.01', '0.01']\n",
      "['1', 'LSM9DS1', '0.36', '0.51', '-0.67', '-0.40', '1.90', '5.53', '-8.09', '-0.38', '0.59', '-0.25', '-0.06', '0.01', '0.01']\n",
      "['1', 'LSM9DS1', '0.19', '0.49', '-0.78', '-0.34', '1.89', '5.55', '-8.15', '-0.37', '0.58', '-0.26', '-0.05', '0.01', '0.01']\n"
     ]
    }
   ],
   "source": [
    "run()"
   ]
  }
 ],
 "metadata": {
  "kernelspec": {
   "display_name": "Python 3",
   "language": "python",
   "name": "python3"
  },
  "language_info": {
   "codemirror_mode": {
    "name": "ipython",
    "version": 3
   },
   "file_extension": ".py",
   "mimetype": "text/x-python",
   "name": "python",
   "nbconvert_exporter": "python",
   "pygments_lexer": "ipython3",
   "version": "3.7.1"
  }
 },
 "nbformat": 4,
 "nbformat_minor": 2
}
